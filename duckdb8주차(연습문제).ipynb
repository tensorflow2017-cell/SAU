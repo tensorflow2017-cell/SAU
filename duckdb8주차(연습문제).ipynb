{
 "cells": [
  {
   "cell_type": "code",
   "execution_count": 13,
   "id": "47f1c9c6",
   "metadata": {},
   "outputs": [
    {
     "name": "stdout",
     "output_type": "stream",
     "text": [
      "1. 'employees_temp' 테이블 생성\n",
      "---\n"
     ]
    },
    {
     "data": {
      "text/plain": [
       "<duckdb.duckdb.DuckDBPyConnection at 0x1f0a6a23c30>"
      ]
     },
     "execution_count": 13,
     "metadata": {},
     "output_type": "execute_result"
    }
   ],
   "source": [
    "import duckdb\n",
    "import pandas as pd\n",
    "\n",
    "con = duckdb.connect(database=':memory:')\n",
    "\n",
    "## 1. 테이블 생성 (CREATE TABLE)\n",
    "print(\"1. 'employees_temp' 테이블 생성\")\n",
    "print(\"---\")\n",
    "con.execute(\"\"\"\n",
    "CREATE TABLE employees_temp (\n",
    "    employee_id INTEGER,\n",
    "    name VARCHAR,\n",
    "    department VARCHAR,\n",
    "    salary INTEGER,\n",
    "    is_active BOOLEAN,\n",
    "    hire_year INTEGER\n",
    ");\n",
    "\"\"\")"
   ]
  },
  {
   "cell_type": "code",
   "execution_count": 14,
   "id": "48655842",
   "metadata": {},
   "outputs": [
    {
     "name": "stdout",
     "output_type": "stream",
     "text": [
      "초기 데이터 상태:\n",
      "   employee_id     name department  salary  is_active  hire_year\n",
      "0          101    Alice         HR   60000       True       2020\n",
      "1          102      Bob         IT   85000       True       2018\n",
      "2          103  Charlie      Sales   55000       True       2022\n",
      "3          104    David         IT   70000      False       2023\n",
      "4          105      Eve         HR   72000       True       2019\n",
      "5          106    Frank      Sales   58000      False       2024\n"
     ]
    }
   ],
   "source": [
    "\n",
    "## 2. 데이터 삽입 (INSERT INTO)\n",
    "con.execute(\"\"\"\n",
    "INSERT INTO employees_temp VALUES\n",
    "(101, 'Alice', 'HR', 60000, TRUE, 2020),\n",
    "(102, 'Bob', 'IT', 85000, TRUE, 2018),\n",
    "(103, 'Charlie', 'Sales', 55000, TRUE, 2022),\n",
    "(104, 'David', 'IT', 70000, FALSE, 2023),\n",
    "(105, 'Eve', 'HR', 72000, TRUE, 2019),\n",
    "(106, 'Frank', 'Sales', 58000, FALSE, 2024);\n",
    "\"\"\")\n",
    "\n",
    "print(\"초기 데이터 상태:\")\n",
    "print(con.sql(\"SELECT * FROM employees_temp;\").df())\n"
   ]
  },
  {
   "cell_type": "code",
   "execution_count": 15,
   "id": "d8ea81da",
   "metadata": {},
   "outputs": [
    {
     "name": "stdout",
     "output_type": "stream",
     "text": [
      "급여가 70000 이상인 직원:\n",
      "    name department  salary\n",
      "0    Bob         IT   85000\n",
      "1  David         IT   70000\n",
      "2    Eve         HR   72000\n"
     ]
    }
   ],
   "source": [
    "\n",
    "## 3. 데이터 조회 (SELECT) - 다양한 WHERE 조건 사용\n",
    "\n",
    "# 조건 1: 급여가 70000 이상인 직원\n",
    "print(\"급여가 70000 이상인 직원:\")\n",
    "print(con.sql(\"SELECT name, department, salary FROM employees_temp WHERE salary >= 70000;\").df())\n"
   ]
  },
  {
   "cell_type": "code",
   "execution_count": 16,
   "id": "a87c066a",
   "metadata": {},
   "outputs": [
    {
     "name": "stdout",
     "output_type": "stream",
     "text": [
      "IT 부서이면서 활성 상태인 직원:\n",
      "  name department  is_active\n",
      "0  Bob         IT       True\n"
     ]
    }
   ],
   "source": [
    "\n",
    "# 조건 2: IT 부서이면서 활성 상태(TRUE)인 직원 (AND 사용)\n",
    "print(\"IT 부서이면서 활성 상태인 직원:\")\n",
    "print(con.sql(\"SELECT name, department, is_active FROM employees_temp WHERE department = 'IT' AND is_active = TRUE;\").df())\n"
   ]
  },
  {
   "cell_type": "code",
   "execution_count": 17,
   "id": "82894c9b",
   "metadata": {},
   "outputs": [
    {
     "name": "stdout",
     "output_type": "stream",
     "text": [
      "Sales 또는 HR 부서 직원:\n",
      "      name department\n",
      "0  Charlie      Sales\n",
      "1    Frank      Sales\n",
      "2    Alice         HR\n",
      "3      Eve         HR\n"
     ]
    }
   ],
   "source": [
    "\n",
    "# 조건 3: Sales 또는 HR 부서 직원 (OR 사용)\n",
    "print(\"Sales 또는 HR 부서 직원:\")\n",
    "print(con.sql(\"SELECT name, department FROM employees_temp WHERE department = 'Sales' OR department = 'HR';\").df())\n"
   ]
  },
  {
   "cell_type": "code",
   "execution_count": 18,
   "id": "928cfcb1",
   "metadata": {},
   "outputs": [
    {
     "name": "stdout",
     "output_type": "stream",
     "text": [
      "2020년 이전에 입사한 직원:\n",
      "  name  hire_year\n",
      "0  Bob       2018\n",
      "1  Eve       2019\n"
     ]
    }
   ],
   "source": [
    "\n",
    "# 조건 4: 2020년 이전에 입사한 직원 (hire_year < 2020)\n",
    "print(\"2020년 이전에 입사한 직원:\")\n",
    "print(con.sql(\"SELECT name, hire_year FROM employees_temp WHERE hire_year < 2020;\").df())\n"
   ]
  },
  {
   "cell_type": "code",
   "execution_count": 19,
   "id": "1234cbd5",
   "metadata": {},
   "outputs": [
    {
     "name": "stdout",
     "output_type": "stream",
     "text": [
      "이름이 'D'로 시작하는 직원:\n",
      "    name\n",
      "0  David\n",
      "==================================================\n"
     ]
    }
   ],
   "source": [
    "\n",
    "# 조건 5: 이름이 'D'로 시작하는 직원 (LIKE 사용)\n",
    "print(\"이름이 'D'로 시작하는 직원:\")\n",
    "print(con.sql(\"SELECT name FROM employees_temp WHERE name LIKE 'D%';\").df())\n",
    "print(\"=\"*50)\n"
   ]
  },
  {
   "cell_type": "code",
   "execution_count": 21,
   "id": "0bdabb72",
   "metadata": {},
   "outputs": [
    {
     "name": "stdout",
     "output_type": "stream",
     "text": [
      "IT 부서 직원 급여 10% 인상\n",
      "   employee_id     name department  salary  is_active  hire_year\n",
      "0          101    Alice         HR   60000       True       2020\n",
      "1          102      Bob         IT  102850       True       2018\n",
      "2          103  Charlie      Sales   55000       True       2022\n",
      "3          104    David         IT   84700      False       2023\n",
      "4          105      Eve         HR   72000       True       2019\n",
      "5          106    Frank      Sales   58000      False       2024\n"
     ]
    }
   ],
   "source": [
    "\n",
    "## 4. 데이터 갱신 (UPDATE) - 다양한 WHERE 조건 사용\n",
    "\n",
    "# 갱신 1: IT 부서 직원들의 급여를 10% 인상\n",
    "print(\"IT 부서 직원 급여 10% 인상\")\n",
    "con.execute(\"UPDATE employees_temp SET salary = salary * 1.10 WHERE department = 'IT';\")\n",
    "\n",
    "print(con.sql(\"SELECT * FROM employees_temp;\").df())"
   ]
  },
  {
   "cell_type": "code",
   "execution_count": 22,
   "id": "98d6eeea",
   "metadata": {},
   "outputs": [
    {
     "name": "stdout",
     "output_type": "stream",
     "text": [
      "2023년 이후 입사한 비활성 직원을 활성으로 변경 (데이터 없음, 실습용)\n",
      "   employee_id     name department  salary  is_active  hire_year\n",
      "0          101    Alice         HR   60000       True       2020\n",
      "1          102      Bob         IT  102850       True       2018\n",
      "2          103  Charlie      Sales   55000       True       2022\n",
      "3          104    David         IT   84700       True       2023\n",
      "4          105      Eve         HR   72000       True       2019\n",
      "5          106    Frank      Sales   58000       True       2024\n"
     ]
    }
   ],
   "source": [
    "\n",
    "# 갱신 2: 2023년 이후 입사한 비활성(FALSE) 직원을 활성(TRUE)으로 변경\n",
    "print(\"2023년 이후 입사한 비활성 직원을 활성으로 변경 (데이터 없음, 실습용)\")\n",
    "con.execute(\"UPDATE employees_temp SET is_active = TRUE WHERE hire_year >= 2023 AND is_active = FALSE;\")\n",
    "\n",
    "print(con.sql(\"SELECT * FROM employees_temp;\").df())"
   ]
  },
  {
   "cell_type": "code",
   "execution_count": 23,
   "id": "5752db10",
   "metadata": {},
   "outputs": [
    {
     "name": "stdout",
     "output_type": "stream",
     "text": [
      "삭제 후 상태 (4개 행 남음: Alice, Charlie, David, Frank)\n",
      "   employee_id     name department  salary  is_active  hire_year\n",
      "0          101    Alice         HR   60000       True       2020\n",
      "1          103  Charlie      Sales   55000       True       2022\n",
      "2          105      Eve         HR   72000       True       2019\n",
      "3          106    Frank      Sales   58000       True       2024\n"
     ]
    }
   ],
   "source": [
    "\n",
    "## 5. 데이터 삭제 (DELETE) - 다양한 WHERE 조건 사용\n",
    "\n",
    "# 삭제 1: 급여가 75000 이상인 직원 삭제 (Bob과 Eve가 해당)\n",
    "con.execute(\"DELETE FROM employees_temp WHERE salary >= 75000;\")\n",
    "print(\"삭제 후 상태 (4개 행 남음: Alice, Charlie, David, Frank)\")\n",
    "print(con.sql(\"SELECT * FROM employees_temp;\").df())\n"
   ]
  },
  {
   "cell_type": "code",
   "execution_count": 24,
   "id": "497b7910",
   "metadata": {},
   "outputs": [
    {
     "name": "stdout",
     "output_type": "stream",
     "text": [
      "삭제 후 상태 (1개 행 남음: David)\n",
      "Empty DataFrame\n",
      "Columns: [employee_id, name, department, salary, is_active, hire_year]\n",
      "Index: []\n"
     ]
    }
   ],
   "source": [
    "\n",
    "# 삭제 2: HR 또는 Sales 부서 직원 삭제 (Alice, Charlie, Frank가 해당)\n",
    "con.execute(\"DELETE FROM employees_temp WHERE department = 'HR' OR department = 'Sales';\")\n",
    "print(\"삭제 후 상태 (1개 행 남음: David)\")\n",
    "print(con.sql(\"SELECT * FROM employees_temp;\").df())\n"
   ]
  },
  {
   "cell_type": "code",
   "execution_count": null,
   "id": "6cdf47a0",
   "metadata": {},
   "outputs": [],
   "source": [
    "\n",
    "# 연결 종료\n",
    "con.close()\n",
    "print(\"데이터베이스 연결 종료.\")"
   ]
  },
  {
   "cell_type": "code",
   "execution_count": null,
   "id": "f85ef232",
   "metadata": {},
   "outputs": [],
   "source": []
  }
 ],
 "metadata": {
  "kernelspec": {
   "display_name": "py310",
   "language": "python",
   "name": "python3"
  },
  "language_info": {
   "codemirror_mode": {
    "name": "ipython",
    "version": 3
   },
   "file_extension": ".py",
   "mimetype": "text/x-python",
   "name": "python",
   "nbconvert_exporter": "python",
   "pygments_lexer": "ipython3",
   "version": "3.10.18"
  }
 },
 "nbformat": 4,
 "nbformat_minor": 5
}
