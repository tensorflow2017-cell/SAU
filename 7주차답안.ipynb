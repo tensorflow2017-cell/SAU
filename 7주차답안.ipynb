{
 "cells": [
  {
   "cell_type": "code",
   "execution_count": 4,
   "id": "7694198b",
   "metadata": {},
   "outputs": [
    {
     "name": "stdout",
     "output_type": "stream",
     "text": [
      "   item_id item_name category  price  is_seasonal\n",
      "0        1     아메리카노       커피   4500        False\n",
      "1        2     카페 라떼       커피   5000        False\n",
      "2        3    바닐라 라떼       커피   5500        False\n",
      "3        4      카푸치노       커피   5000        False\n",
      "4        5     에스프레소       커피   4000        False\n",
      "5        6     녹차 라떼     라떼/차   5500        False\n",
      "6        7    딸기 스무디      스무디   6500         True\n",
      "7        8    레몬 에이드      에이드   6000         True\n",
      "8        9    초코 케이크      디저트   7000        False\n",
      "9       10       크로플      디저트   5800        False\n"
     ]
    }
   ],
   "source": [
    "import duckdb\n",
    "import pandas as pd\n",
    "\n",
    "# 1. DuckDB 인메모리 연결 생성 (데이터베이스는 메모리에만 존재)\n",
    "con = duckdb.connect(database=':memory:')\n",
    "\n",
    "# 2. 새로운 테이블 생성: 카페 메뉴 (cafe_menu)\n",
    "# 컬럼: item_id, item_name, category, price, is_seasonal\n",
    "con.execute(\"\"\"\n",
    "    CREATE TABLE cafe_menu (\n",
    "        item_id INTEGER,\n",
    "        item_name VARCHAR,\n",
    "        category VARCHAR,\n",
    "        price INTEGER,\n",
    "        is_seasonal BOOLEAN\n",
    "    );\n",
    "\"\"\")\n",
    "\n",
    "# 3. 데이터 10행 삽입\n",
    "con.execute(\"\"\"\n",
    "    INSERT INTO cafe_menu VALUES\n",
    "    (1, '아메리카노', '커피', 4500, FALSE),\n",
    "    (2, '카페 라떼', '커피', 5000, FALSE),\n",
    "    (3, '바닐라 라떼', '커피', 5500, FALSE),\n",
    "    (4, '카푸치노', '커피', 5000, FALSE),\n",
    "    (5, '에스프레소', '커피', 4000, FALSE),\n",
    "    (6, '녹차 라떼', '라떼/차', 5500, FALSE),\n",
    "    (7, '딸기 스무디', '스무디', 6500, TRUE),\n",
    "    (8, '레몬 에이드', '에이드', 6000, TRUE),\n",
    "    (9, '초코 케이크', '디저트', 7000, FALSE),\n",
    "    (10, '크로플', '디저트', 5800, FALSE);\n",
    "\"\"\")\n",
    "\n",
    "\n",
    "result_df_initial = con.sql(\"SELECT * FROM cafe_menu ORDER BY item_id;\").df()\n",
    "print(result_df_initial)\n"
   ]
  },
  {
   "cell_type": "code",
   "execution_count": 5,
   "id": "69d1dc73",
   "metadata": {},
   "outputs": [
    {
     "name": "stdout",
     "output_type": "stream",
     "text": [
      "   item_id item_name category  price  is_seasonal\n",
      "0        1     아메리카노       커피   4500        False\n",
      "1        2     카페 라떼       커피   5000        False\n",
      "2        3    바닐라 라떼       커피   5500        False\n",
      "3        4      카푸치노   스페셜 커피   5000        False\n",
      "4        5     에스프레소       커피   4000        False\n",
      "5        6     녹차 라떼     라떼/차   5500        False\n",
      "6        7    딸기 스무디      스무디   6500         True\n",
      "7        8    레몬 에이드      에이드   6000         True\n",
      "8        9    초코 케이크      디저트   7000        False\n",
      "9       10       크로플      디저트   5800        False\n"
     ]
    }
   ],
   "source": [
    "sql_update_1 = \"\"\"\n",
    "    UPDATE cafe_menu\n",
    "    SET category = '스페셜 커피'\n",
    "    WHERE item_id = 4;\n",
    "\"\"\"\n",
    "con.sql(sql_update_1)\n",
    "\n",
    "result_df_initial = con.sql(\"SELECT * FROM cafe_menu ORDER BY item_id;\").df()\n",
    "print(result_df_initial)"
   ]
  },
  {
   "cell_type": "code",
   "execution_count": 6,
   "id": "19eded2c",
   "metadata": {},
   "outputs": [
    {
     "name": "stdout",
     "output_type": "stream",
     "text": [
      "   item_id item_name category  price  is_seasonal\n",
      "0        1     아메리카노       커피   4800        False\n",
      "1        2     카페 라떼       커피   5300        False\n",
      "2        3    바닐라 라떼       커피   5800        False\n",
      "3        4      카푸치노   스페셜 커피   5000        False\n",
      "4        5     에스프레소       커피   4300        False\n",
      "5        6     녹차 라떼     라떼/차   5500        False\n",
      "6        7    딸기 스무디      스무디   6500         True\n",
      "7        8    레몬 에이드      에이드   6000         True\n",
      "8        9    초코 케이크      디저트   7000        False\n",
      "9       10       크로플      디저트   5800        False\n"
     ]
    }
   ],
   "source": [
    "sql_update_2 = \"\"\"\n",
    "    UPDATE cafe_menu\n",
    "    SET price = price + 300\n",
    "    WHERE category = '커피';\n",
    "\"\"\"\n",
    "con.sql(sql_update_2)\n",
    "\n",
    "result_df_initial = con.sql(\"SELECT * FROM cafe_menu ORDER BY item_id;\").df()\n",
    "print(result_df_initial)"
   ]
  },
  {
   "cell_type": "code",
   "execution_count": null,
   "id": "107edbf7",
   "metadata": {},
   "outputs": [],
   "source": []
  }
 ],
 "metadata": {
  "kernelspec": {
   "display_name": "py310",
   "language": "python",
   "name": "python3"
  },
  "language_info": {
   "codemirror_mode": {
    "name": "ipython",
    "version": 3
   },
   "file_extension": ".py",
   "mimetype": "text/x-python",
   "name": "python",
   "nbconvert_exporter": "python",
   "pygments_lexer": "ipython3",
   "version": "3.10.18"
  }
 },
 "nbformat": 4,
 "nbformat_minor": 5
}
