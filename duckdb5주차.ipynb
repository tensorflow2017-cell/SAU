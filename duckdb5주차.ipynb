{
 "cells": [
  {
   "cell_type": "code",
   "execution_count": null,
   "id": "0a5caa10",
   "metadata": {},
   "outputs": [],
   "source": [
    "# CREATE TABLE: 테이블 만들기\n",
    "\n",
    "# INSERT INTO: 만든 테이블에 데이터 추가하기"
   ]
  },
  {
   "cell_type": "code",
   "execution_count": null,
   "id": "0c582e78",
   "metadata": {},
   "outputs": [],
   "source": [
    "import duckdb"
   ]
  },
  {
   "cell_type": "code",
   "execution_count": null,
   "id": "deda21fc",
   "metadata": {},
   "outputs": [],
   "source": [
    "# +--------------+--------------+--------------+-------------+\n",
    "# |  product_id  | product_name |    price     |  stock_date |\n",
    "# +--------------+--------------+--------------+-------------+\n",
    "# |   INTEGER    |   VARCHAR    | DECIMAL(10,2)|     DATE   |\n",
    "# +--------------+--------------+--------------+-------------+"
   ]
  },
  {
   "cell_type": "code",
   "execution_count": 4,
   "id": "80db7bcc",
   "metadata": {},
   "outputs": [
    {
     "data": {
      "text/plain": [
       "<duckdb.duckdb.DuckDBPyConnection at 0x201d5185670>"
      ]
     },
     "execution_count": 4,
     "metadata": {},
     "output_type": "execute_result"
    }
   ],
   "source": [
    "con = duckdb.connect(database=':memory:')\n",
    "\n",
    "# 테이블 생성 (스키마 정의)\n",
    "con.execute(\"\"\"\n",
    "    CREATE TABLE product_info (\n",
    "        product_id INTEGER,\n",
    "        product_name VARCHAR,\n",
    "        price DECIMAL(10, 2),\n",
    "        stock_date DATE\n",
    "    );\n",
    "\"\"\")"
   ]
  },
  {
   "cell_type": "code",
   "execution_count": null,
   "id": "ef7776bb",
   "metadata": {},
   "outputs": [],
   "source": [
    "# CREATE TABLE 테이블_이름 (\n",
    "#     컬럼_이름1    데이터_타입1    [제약조건1],\n",
    "#     컬럼_이름2    데이터_타입2    [제약조건2],\n",
    "#     ...\n",
    "#     컬럼_이름N    데이터_타입N    [제약조건N]\n",
    "# );"
   ]
  },
  {
   "cell_type": "code",
   "execution_count": null,
   "id": "ecf267c4",
   "metadata": {},
   "outputs": [],
   "source": [
    "# 데이터 타입\n",
    "\n",
    "# INTEGER: 정수형 데이터\n",
    "# VARCHAR(N): 가변 길이 문자열(최대 길이 N)\n",
    "# DECIMAL(P, S): 고정 소수점 숫자(전체 자릿수 P, 소수점 이하 자릿수 S)\n",
    "# DATE: 날짜\n",
    "# BOOLEAN: 논리 값(TRUE, FALSE)\n",
    "# TIMESTAMP: 날짜와 시간 정보\n",
    "# FLOAT: 부동 소수점 숫자\n",
    "# BIGINT: INTEGER가 저장할 수 있는 범위를 초과하는 숫자"
   ]
  },
  {
   "cell_type": "code",
   "execution_count": 4,
   "id": "4fe327e6",
   "metadata": {},
   "outputs": [
    {
     "name": "stdout",
     "output_type": "stream",
     "text": [
      "    column_name    column_type null   key default extra\n",
      "0    product_id        INTEGER  YES  None    None  None\n",
      "1  product_name        VARCHAR  YES  None    None  None\n",
      "2         price  DECIMAL(10,2)  YES  None    None  None\n",
      "3    stock_date           DATE  YES  None    None  None\n"
     ]
    }
   ],
   "source": [
    "schema_info_df = con.sql(\"DESCRIBE product_info;\").df()\n",
    "print(schema_info_df)"
   ]
  },
  {
   "cell_type": "code",
   "execution_count": 5,
   "id": "932a038b",
   "metadata": {},
   "outputs": [
    {
     "data": {
      "text/plain": [
       "<duckdb.duckdb.DuckDBPyConnection at 0x201d5185670>"
      ]
     },
     "execution_count": 5,
     "metadata": {},
     "output_type": "execute_result"
    }
   ],
   "source": [
    "# 테이블의 컬럼 순서에 맞게 빠짐없이 입력\n",
    "\n",
    "# INSERT INTO 테이블_이름\n",
    "# VALUES (값1, 값2, 값3, ...);\n",
    "\n",
    "con.execute(\"\"\"\n",
    "    INSERT INTO product_info \n",
    "    VALUES (4, '모니터', 350.75, '2025-09-25');\n",
    "\"\"\")\n",
    "\n",
    "# -----------------------------------------------------------------------\n",
    "\n",
    "# 일부 컬럼에만 값을 추가하는 경우\n",
    "\n",
    "# INSERT INTO 테이블_이름 (컬럼1, 컬럼2, ...)\n",
    "# VALUES (값1, 값2, ...);\n",
    "\n",
    "\n",
    "con.execute(\"\"\"\n",
    "    INSERT INTO product_info (product_id, product_name)\n",
    "    VALUES (5, '웹캠');\n",
    "\"\"\")"
   ]
  },
  {
   "cell_type": "code",
   "execution_count": 6,
   "id": "841b7d83",
   "metadata": {},
   "outputs": [
    {
     "name": "stdout",
     "output_type": "stream",
     "text": [
      "[테이블 전체 데이터 조회]\n",
      "   product_id product_name   price stock_date\n",
      "0           4          모니터  350.75 2025-09-25\n",
      "1           5           웹캠     NaN        NaT\n"
     ]
    }
   ],
   "source": [
    "# Python에서 DuckDB 실행\n",
    "print(\"[테이블 전체 데이터 조회]\")\n",
    "result_df = con.sql(\"SELECT * FROM product_info;\").df()\n",
    "print(result_df)"
   ]
  },
  {
   "cell_type": "code",
   "execution_count": null,
   "id": "d278b98a",
   "metadata": {},
   "outputs": [],
   "source": []
  },
  {
   "cell_type": "code",
   "execution_count": null,
   "id": "347de29a",
   "metadata": {},
   "outputs": [],
   "source": [
    "# +---------------+---------------+-------------+------------+------------+\n",
    "# |  employee_id  | employee_name |  hire_date  |   salary   | is_manager |\n",
    "# +---------------+---------------+-------------+------------+------------+\n",
    "# |    INTEGER    |    VARCHAR    |     DATE    |   BIGINT   |  BOOLEAN   |\n",
    "# +---------------+---------------+-------------+------------+------------+"
   ]
  },
  {
   "cell_type": "code",
   "execution_count": 7,
   "id": "98033974",
   "metadata": {},
   "outputs": [
    {
     "name": "stdout",
     "output_type": "stream",
     "text": [
      "### employee_data 테이블 전체 데이터 조회 ###\n",
      "   employee_id employee_name  hire_date    salary  is_manager\n",
      "0          101           김철수 2023-01-15  65000000        True\n",
      "1          102           이영희 2024-03-01      <NA>        <NA>\n",
      "2          103           박민준 2022-11-20      <NA>        <NA>\n",
      "3          104           최지우 2023-08-10  50000000       False\n"
     ]
    }
   ],
   "source": [
    "import duckdb\n",
    "import pandas as pd\n",
    "\n",
    "# 인메모리 연결\n",
    "con = duckdb.connect(database=':memory:')\n",
    "\n",
    "## 1. employee_data 테이블 생성 (스키마 정의 주석 포함)\n",
    "con.execute(\"\"\"\n",
    "    -- 테이블 생성 (스키마 정의)\n",
    "    CREATE TABLE employee_data (\n",
    "        employee_id INTEGER,    -- INTEGER: 정수형 데이터\n",
    "        employee_name VARCHAR,  -- VARCHAR: 가변 길이 문자열 (이름)\n",
    "        hire_date DATE,         -- DATE: 날짜 (고용일)\n",
    "        salary BIGINT,          -- BIGINT: INTEGER 범위를 초과하는 큰 정수형 (급여)\n",
    "        is_manager BOOLEAN      -- BOOLEAN: 논리 값(TRUE, FALSE) (관리자 여부)\n",
    "    );\n",
    "\"\"\")\n",
    "\n",
    "## 2. 데이터 삽입\n",
    "\n",
    "# 모든 열에 데이터 삽입 예시\n",
    "con.execute(\"\"\"\n",
    "    INSERT INTO employee_data \n",
    "    VALUES (101, '김철수', '2023-01-15', 65000000, TRUE);\n",
    "\"\"\")\n",
    "\n",
    "# 일부 열만 지정하여 삽입 예시 (지정하지 않은 열은 NULL로 채워짐)\n",
    "con.execute(\"\"\"\n",
    "    INSERT INTO employee_data (employee_id, employee_name, hire_date)\n",
    "    VALUES \n",
    "    (102, '이영희', '2024-03-01'),\n",
    "    (103, '박민준', '2022-11-20');\n",
    "\"\"\")\n",
    "\n",
    "# 모든 열에 데이터 삽입 예시 2\n",
    "con.execute(\"\"\"\n",
    "    INSERT INTO employee_data\n",
    "    VALUES (104, '최지우', '2023-08-10', 50000000, FALSE);\n",
    "\"\"\")\n",
    "\n",
    "## 3. 데이터 조회 및 출력\n",
    "\n",
    "print(\"### employee_data 테이블 전체 데이터 조회 ###\")\n",
    "result_df_employee = con.sql(\"SELECT * FROM employee_data;\").df()\n",
    "print(result_df_employee)\n",
    "\n",
    "con.close()"
   ]
  },
  {
   "cell_type": "code",
   "execution_count": null,
   "id": "4466dc56",
   "metadata": {},
   "outputs": [],
   "source": []
  }
 ],
 "metadata": {
  "kernelspec": {
   "display_name": "py310_64",
   "language": "python",
   "name": "python3"
  },
  "language_info": {
   "codemirror_mode": {
    "name": "ipython",
    "version": 3
   },
   "file_extension": ".py",
   "mimetype": "text/x-python",
   "name": "python",
   "nbconvert_exporter": "python",
   "pygments_lexer": "ipython3",
   "version": "3.10.18"
  }
 },
 "nbformat": 4,
 "nbformat_minor": 5
}
