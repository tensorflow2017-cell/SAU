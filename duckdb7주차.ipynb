{
 "cells": [
  {
   "cell_type": "code",
   "execution_count": null,
   "id": "d7955642",
   "metadata": {},
   "outputs": [],
   "source": [
    "# UPDATE\n",
    "# SQL의 UPDATE 문은 기존 테이블의 데이터를 수정할 때 사용하는 명령어\n",
    "\n",
    "# UPDATE 문 기본 구조\n",
    "# UPDATE 테이블_이름\n",
    "# SET 컬럼1 = 값1, 컬럼2 = 값2, ...\n",
    "# WHERE 조건;\n",
    "\n",
    "# 예\n",
    "# UPDATE employee_data\n",
    "# SET salary = 60000000\n",
    "# WHERE employee_id = 103;\n"
   ]
  },
  {
   "cell_type": "code",
   "execution_count": 3,
   "id": "a089e7ae",
   "metadata": {},
   "outputs": [
    {
     "name": "stdout",
     "output_type": "stream",
     "text": [
      "### 급여 수정 후 employee_data 테이블 ###\n",
      "   employee_id employee_name  hire_date    salary  is_manager\n",
      "0          101           김철수 2023-01-15  65000000        True\n",
      "1          102           이영희 2024-03-01  58000000       False\n",
      "2          103           박민준 2022-11-20      <NA>       False\n"
     ]
    }
   ],
   "source": [
    "import duckdb\n",
    "\n",
    "con = duckdb.connect(database=':memory:')\n",
    "\n",
    "# 테이블 생성 및 데이터 삽입\n",
    "con.execute(\"\"\"\n",
    "    CREATE TABLE employee_data (\n",
    "        employee_id INTEGER,\n",
    "        employee_name VARCHAR,\n",
    "        hire_date DATE,\n",
    "        salary BIGINT,\n",
    "        is_manager BOOLEAN\n",
    "    );\n",
    "\"\"\")\n",
    "\n",
    "con.execute(\"\"\"\n",
    "    INSERT INTO employee_data VALUES\n",
    "    (101, '김철수', '2023-01-15', 65000000, TRUE),\n",
    "    (102, '이영희', '2024-03-01', NULL, FALSE),\n",
    "    (103, '박민준', '2022-11-20', NULL, FALSE);\n",
    "\"\"\")\n",
    "\n",
    "# 급여 수정: employee_id가 102인 직원의 salary를 58000000으로 변경\n",
    "con.execute(\"\"\"\n",
    "    UPDATE employee_data\n",
    "    SET salary = 58000000\n",
    "    WHERE employee_id = 102;\n",
    "\"\"\")\n",
    "\n",
    "# 결과 확인\n",
    "print(\"### 급여 수정 후 employee_data 테이블 ###\")\n",
    "print(con.sql(\"SELECT * FROM employee_data;\").df())\n"
   ]
  },
  {
   "cell_type": "code",
   "execution_count": 4,
   "id": "15c1d595",
   "metadata": {},
   "outputs": [
    {
     "name": "stdout",
     "output_type": "stream",
     "text": [
      "   employee_id employee_name  hire_date    salary  is_manager\n",
      "0          101           김철수 2023-01-15  65000000        True\n",
      "1          102           이영희 2024-03-01  58000000       False\n",
      "2          103           박민준 2022-11-20  60000000        True\n"
     ]
    }
   ],
   "source": [
    "sql1 = \"\"\"\n",
    "    UPDATE employee_data\n",
    "    SET salary = 60000000, is_manager = TRUE\n",
    "    WHERE employee_name = '박민준';\n",
    "\"\"\"\n",
    "con.sql(sql1)\n",
    "\n",
    "result_df = con.sql(\"SELECT * FROM employee_data;\").df()\n",
    "print(result_df)"
   ]
  },
  {
   "cell_type": "code",
   "execution_count": 5,
   "id": "3773882f",
   "metadata": {},
   "outputs": [
    {
     "name": "stdout",
     "output_type": "stream",
     "text": [
      "   employee_id employee_name  hire_date    salary  is_manager\n",
      "0          101           김철수 2023-01-15  65000000       False\n",
      "1          102           이영희 2024-03-01  58000000       False\n",
      "2          103           박민준 2022-11-20  60000000       False\n"
     ]
    }
   ],
   "source": [
    "sql2 = \"\"\"\n",
    "    UPDATE employee_data\n",
    "    SET is_manager = FALSE;\n",
    "\"\"\"\n",
    "con.sql(sql2)\n",
    "\n",
    "result_df = con.sql(\"SELECT * FROM employee_data;\").df()\n",
    "print(result_df)"
   ]
  },
  {
   "cell_type": "code",
   "execution_count": null,
   "id": "f5da69cd",
   "metadata": {},
   "outputs": [],
   "source": [
    "##############################################################"
   ]
  },
  {
   "cell_type": "code",
   "execution_count": null,
   "id": "10ef9682",
   "metadata": {},
   "outputs": [
    {
     "data": {
      "text/plain": [
       "<duckdb.duckdb.DuckDBPyConnection at 0x26fa50ff430>"
      ]
     },
     "execution_count": 6,
     "metadata": {},
     "output_type": "execute_result"
    }
   ],
   "source": [
    "con = duckdb.connect(database=':memory:')\n",
    "\n",
    "# 테이블 생성\n",
    "con.execute(\"\"\"\n",
    "    CREATE TABLE library_books (\n",
    "        book_id INTEGER,\n",
    "        title VARCHAR,\n",
    "        author VARCHAR,\n",
    "        published_year INTEGER,\n",
    "        is_available BOOLEAN\n",
    "    );\n",
    "\"\"\")\n",
    "\n",
    "# 데이터 삽입\n",
    "con.execute(\"\"\"\n",
    "    INSERT INTO library_books VALUES\n",
    "    (1, '파이썬 프로그래밍', '홍길동', 2020, TRUE),\n",
    "    (2, '데이터베이스 개론', '이몽룡', 2018, FALSE),\n",
    "    (3, '인공지능 입문', '성춘향', 2023, TRUE);\n",
    "\"\"\")"
   ]
  },
  {
   "cell_type": "code",
   "execution_count": 7,
   "id": "4b676408",
   "metadata": {},
   "outputs": [
    {
     "name": "stdout",
     "output_type": "stream",
     "text": [
      "   book_id      title author  published_year  is_available\n",
      "0        1  파이썬 프로그래밍    홍길동            2020          True\n",
      "1        2  데이터베이스 개론    이몽룡            2018         False\n",
      "2        3    인공지능 입문    성춘향            2023          True\n"
     ]
    }
   ],
   "source": [
    "result_df = con.sql(\"SELECT * FROM library_books;\").df()\n",
    "print(result_df)"
   ]
  },
  {
   "cell_type": "code",
   "execution_count": null,
   "id": "ecd1552b",
   "metadata": {},
   "outputs": [
    {
     "name": "stdout",
     "output_type": "stream",
     "text": [
      "   book_id      title author  published_year  is_available\n",
      "0        1  파이썬 프로그래밍    홍길동            2020         False\n",
      "1        2  데이터베이스 개론    이몽룡            2018         False\n",
      "2        3    인공지능 입문    성춘향            2023          True\n"
     ]
    }
   ],
   "source": [
    "# 특정 책의 availability 상태 변경\n",
    "sql1 = \"\"\"\n",
    "    UPDATE library_books\n",
    "    SET is_available = FALSE\n",
    "    WHERE book_id = 1;\n",
    "\"\"\"\n",
    "con.sql(sql1)\n",
    "\n",
    "result_df = con.sql(\"SELECT * FROM library_books;\").df()\n",
    "print(result_df)"
   ]
  },
  {
   "cell_type": "code",
   "execution_count": null,
   "id": "594f22df",
   "metadata": {},
   "outputs": [
    {
     "name": "stdout",
     "output_type": "stream",
     "text": [
      "   book_id      title author  published_year  is_available\n",
      "0        1  파이썬 프로그래밍    홍길동            2020         False\n",
      "1        2  데이터베이스 개론    이몽룡            2024          True\n",
      "2        3    인공지능 입문    성춘향            2023          True\n"
     ]
    }
   ],
   "source": [
    "\n",
    "# 여러 컬럼 동시 수정\n",
    "sql2 = \"\"\"\n",
    "    UPDATE library_books\n",
    "    SET published_year = 2024, is_available = TRUE\n",
    "    WHERE title = '데이터베이스 개론';\n",
    "\"\"\"\n",
    "con.sql(sql2)\n",
    "\n",
    "result_df = con.sql(\"SELECT * FROM library_books;\").df()\n",
    "print(result_df)"
   ]
  },
  {
   "cell_type": "code",
   "execution_count": null,
   "id": "e7b246a6",
   "metadata": {},
   "outputs": [
    {
     "name": "stdout",
     "output_type": "stream",
     "text": [
      "   book_id      title author  published_year  is_available\n",
      "0        1  파이썬 프로그래밍    홍길동            2020         False\n",
      "1        2  데이터베이스 개론    이몽룡            2024         False\n",
      "2        3    인공지능 입문    성춘향            2023         False\n"
     ]
    }
   ],
   "source": [
    "\n",
    "# 전체 책을 대출 불가 상태로 변경\n",
    "sql3 = \"\"\"\n",
    "    UPDATE library_books\n",
    "    SET is_available = FALSE;\n",
    "\"\"\"\n",
    "con.sql(sql3)\n",
    "\n",
    "result_df = con.sql(\"SELECT * FROM library_books;\").df()\n",
    "print(result_df)"
   ]
  },
  {
   "cell_type": "code",
   "execution_count": null,
   "id": "790205b7",
   "metadata": {},
   "outputs": [],
   "source": [
    "\n",
    "result_df = con.sql(\"SELECT * FROM library_books;\").df()\n",
    "print(result_df)\n",
    "\n",
    "# 연결 종료\n",
    "con.close()"
   ]
  }
 ],
 "metadata": {
  "kernelspec": {
   "display_name": "py310",
   "language": "python",
   "name": "python3"
  },
  "language_info": {
   "codemirror_mode": {
    "name": "ipython",
    "version": 3
   },
   "file_extension": ".py",
   "mimetype": "text/x-python",
   "name": "python",
   "nbconvert_exporter": "python",
   "pygments_lexer": "ipython3",
   "version": "3.10.18"
  }
 },
 "nbformat": 4,
 "nbformat_minor": 5
}
