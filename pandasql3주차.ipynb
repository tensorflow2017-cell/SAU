{
 "cells": [
  {
   "cell_type": "code",
   "execution_count": null,
   "id": "283cc6f9",
   "metadata": {},
   "outputs": [],
   "source": [
    "# SQL에서 SELECT는 데이터를 조회할 때 사용하는 키워드\n",
    "# SELECT 뒤에는 표시할 컬럼을 쉼표로 구분해서 나열\n",
    "# *은 \"모든 컬럼\"을 의미\n",
    "# FROM은 데이터를 조회할 테이블이나 데이터프레임을 지정하는 키워드"
   ]
  },
  {
   "cell_type": "code",
   "execution_count": null,
   "id": "7200199e",
   "metadata": {},
   "outputs": [
    {
     "name": "stdout",
     "output_type": "stream",
     "text": [
      "   id     name  age department\n",
      "0   1    Alice   25         HR\n",
      "1   2      Bob   30         IT\n",
      "2   3  Charlie   35  Marketing\n",
      "3   4    David   40    Finance\n"
     ]
    }
   ],
   "source": [
    "import pandas as pd\n",
    "import pandasql as ps\n",
    "\n",
    "# 예제 데이터 프레임 생성\n",
    "data = {\n",
    "    'id': [1, 2, 3, 4],\n",
    "    'name': ['Alice', 'Bob', 'Charlie', 'David'],\n",
    "    'age': [25, 30, 35, 40],\n",
    "    'department': ['HR', 'IT', 'Marketing', 'Finance']\n",
    "}\n",
    "\n",
    "df = pd.DataFrame(data)\n",
    "\n",
    "# SQL 쿼리 실행\n",
    "query = \"SELECT * FROM df\"\n",
    "result = ps.sqldf(query, locals())\n",
    "\n",
    "print(result)"
   ]
  },
  {
   "cell_type": "code",
   "execution_count": null,
   "id": "70a3fc15",
   "metadata": {},
   "outputs": [],
   "source": [
    "# 이 경우에는 *가 아닌 name과 age 컬럼만 표시하라는 의미\n",
    "query = \"SELECT name, age FROM df\"\n",
    "result = ps.sqldf(query, locals())\n",
    "\n",
    "print(result)\n"
   ]
  },
  {
   "cell_type": "code",
   "execution_count": null,
   "id": "1eb4fc79",
   "metadata": {},
   "outputs": [],
   "source": [
    "# WHERE는 뒤에 조건을 지정하여, 해당 조건을 만족하는 데이터만을 선택\n",
    "# age >= 30는 컬럼 age의 값이 30보다 크거나 같다라는 조건\n",
    "# 따라서 \"SELECT name, age FROM df WHERE age >= 30\"는 age 컬럼의 값이 30보다 크거나 같은 행을 선택하는데\n",
    "# name, age 컬럼만 표시하라는 의미\n",
    "\n",
    "query = \"SELECT name, age FROM df WHERE age >= 30\"\n",
    "result = ps.sqldf(query, locals())\n",
    "\n",
    "print(result)\n"
   ]
  },
  {
   "cell_type": "code",
   "execution_count": null,
   "id": "f57fcc13",
   "metadata": {},
   "outputs": [
    {
     "name": "stdout",
     "output_type": "stream",
     "text": [
      "      name  age\n",
      "0    David   40\n",
      "1  Charlie   35\n",
      "2    Frank   35\n",
      "3      Bob   30\n",
      "4      Eve   28\n",
      "5    Alice   25\n"
     ]
    }
   ],
   "source": [
    "query = \"SELECT name, age FROM df ORDER BY age DESC\"\n",
    "# ORDER BY는 정렬 기준을 지정\n",
    "# ORDER BY age는 age 컬럼의 값을 기준으로 정렬하라는 의미\n",
    "\n",
    "# 내림차순은 DESC\n",
    "# 오름차순은 DESC 대신 ASC\n",
    "result = ps.sqldf(query, locals())\n",
    "\n",
    "print(result)\n"
   ]
  },
  {
   "cell_type": "code",
   "execution_count": null,
   "id": "fc4dfbdd",
   "metadata": {},
   "outputs": [
    {
     "name": "stdout",
     "output_type": "stream",
     "text": [
      "   id   name  age department  salary\n",
      "0   1  Alice   25         HR   50000\n",
      "1   2    Bob   30         IT   60000\n"
     ]
    }
   ],
   "source": [
    "# 쿼리 결과 중에서 상위 n개의 행만 조회하는 경우 LIMIT n\n",
    "# 따라서 \"SELECT * FROM df LIMIT 2\"는 df의 모든 행 중에서\n",
    "# 상위 2개의 행만 조회하되 모든 컬럼을 표시\n",
    "query = \"SELECT * FROM df LIMIT 2\"\n",
    "result = ps.sqldf(query, locals())\n",
    "\n",
    "print(result)"
   ]
  },
  {
   "cell_type": "code",
   "execution_count": 2,
   "id": "df0bc7c2",
   "metadata": {},
   "outputs": [],
   "source": [
    "import pandas as pd\n",
    "\n",
    "# 예제 데이터 생성\n",
    "data = {\n",
    "    'id': [1, 2, 3, 4, 5, 6],\n",
    "    'name': ['Alice', 'Bob', 'Charlie', 'David', 'Eve', 'Frank'],\n",
    "    'age': [25, 30, 35, 40, 28, 35],\n",
    "    'department': ['HR', 'IT', 'Marketing', 'Finance', 'IT', 'Marketing'],\n",
    "    'salary': [50000, 60000, 55000, 70000, 62000, 58000]\n",
    "}\n",
    "\n",
    "df = pd.DataFrame(data)\n"
   ]
  },
  {
   "cell_type": "code",
   "execution_count": null,
   "id": "1d59fd57",
   "metadata": {},
   "outputs": [],
   "source": [
    "# 위 데이터에 대해서"
   ]
  },
  {
   "cell_type": "code",
   "execution_count": null,
   "id": "64c7a6b1",
   "metadata": {},
   "outputs": [],
   "source": [
    "# 모든 데이터를 조회하는 SQL문을 작성하고 실행하시오"
   ]
  },
  {
   "cell_type": "code",
   "execution_count": null,
   "id": "1172c92c",
   "metadata": {},
   "outputs": [],
   "source": [
    "# 나이와 이름만 조회하는 SQL문을 작성하고 실행하시오"
   ]
  },
  {
   "cell_type": "code",
   "execution_count": null,
   "id": "d9ec59ee",
   "metadata": {},
   "outputs": [],
   "source": [
    "# salary가 50000 이상인 사람들을 조회하는 SQL문을 작성하고 실행하시오"
   ]
  },
  {
   "cell_type": "code",
   "execution_count": null,
   "id": "470791a0",
   "metadata": {},
   "outputs": [],
   "source": [
    "# age가 30 이상인 사람들을 조회하는 SQL문을 작성하고 실행하시오"
   ]
  },
  {
   "cell_type": "code",
   "execution_count": null,
   "id": "b0dafb40",
   "metadata": {},
   "outputs": [],
   "source": [
    "# 연령 순으로 내림차순 정렬하는 SQL문을 작성하고 실행하시오"
   ]
  },
  {
   "cell_type": "code",
   "execution_count": null,
   "id": "f95938c1",
   "metadata": {},
   "outputs": [],
   "source": [
    "# 연령 순으로 오름차순 정렬하는 SQL문을 작성하고 실행하시오"
   ]
  },
  {
   "cell_type": "code",
   "execution_count": null,
   "id": "df9f9ad4",
   "metadata": {},
   "outputs": [],
   "source": []
  }
 ],
 "metadata": {
  "kernelspec": {
   "display_name": "py310_64",
   "language": "python",
   "name": "python3"
  },
  "language_info": {
   "codemirror_mode": {
    "name": "ipython",
    "version": 3
   },
   "file_extension": ".py",
   "mimetype": "text/x-python",
   "name": "python",
   "nbconvert_exporter": "python",
   "pygments_lexer": "ipython3",
   "version": "3.10.18"
  }
 },
 "nbformat": 4,
 "nbformat_minor": 5
}
