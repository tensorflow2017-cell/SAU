{
 "cells": [
  {
   "cell_type": "code",
   "execution_count": null,
   "id": "84bd8ca5",
   "metadata": {},
   "outputs": [],
   "source": [
    "# DELETE 문은 데이터베이스 테이블에서 행(Row)을 삭제할 때 사용\n",
    "# 특정 조건에 맞는 행만 삭제할 수 있으며, 조건이 없으면 테이블의 모든 데이터가 삭제\n",
    "\n",
    "# 사용법\n",
    "\n",
    "# DELETE FROM table_name\n",
    "# WHERE 조건;"
   ]
  },
  {
   "cell_type": "code",
   "execution_count": null,
   "id": "733842b0",
   "metadata": {},
   "outputs": [],
   "source": [
    "# 조건 작성시 사용하는 연산자\n",
    "\n",
    "# 연산자,               설명,                               예시\n",
    "# =,                   같다,                                age = 30\n",
    "# != 또는 <>,           같지 않다,                           status != 'Pending'\n",
    "# >,                   크다 (초과),                         salary > 50000\n",
    "# <,                   작다 (미만),                         price < 100\n",
    "# >=,                  크거나 같다 (이상),                   quantity >= 10\n",
    "# <=,                  작거나 같다 (이하),                   date <= '2025-01-01'\n",
    "\n",
    "# 연산자,               설명,                               예시\n",
    "# AND,                 두 조건 모두 참일 때,                 city = 'Seoul' AND age < 30\n",
    "# OR,                  둘 중 하나라도 참일 때,               country = 'KR' OR country = 'JP'\n",
    "# NOT,                 조건을 부정할 때,                     NOT (price > 100)\n",
    "\n",
    "# 연산자,               설명,                               예시\n",
    "# BETWEEN,             값의 범위에 포함될 때,                amount BETWEEN 10 AND 50\n",
    "# IN,                  값 목록 중 하나와 일치할 때,           department IN ('IT', 'HR')\n",
    "# LIKE,                문자열 패턴이 일치할 때                name LIKE 'A%' (A로 시작)\n",
    "#                      (%는 임의의 문자열, _는 임의의 한 문자)\",\n",
    "# IS NULL,             값이 NULL일 때,                      address IS NULL\n",
    "# IS NOT NULL,         값이 NULL이 아닐 때,                  email IS NOT NULL"
   ]
  },
  {
   "cell_type": "code",
   "execution_count": null,
   "id": "a35a4329",
   "metadata": {},
   "outputs": [
    {
     "name": "stdout",
     "output_type": "stream",
     "text": [
      "   employee_id     name department  salary  is_active  hire_year\n",
      "0          101    Alice         HR   60000       True       2020\n",
      "1          102      Bob         IT   85000       True       2018\n",
      "2          103  Charlie      Sales   55000       True       2022\n",
      "3          104    David         IT   70000      False       2023\n",
      "4          105      Eve         HR   72000       True       2019\n",
      "5          106    Frank      Sales   58000      False       2024\n"
     ]
    }
   ],
   "source": [
    "import duckdb\n",
    "import pandas as pd\n",
    "\n",
    "con = duckdb.connect(database=':memory:')\n",
    "\n",
    "# 테이블 생성\n",
    "con.execute(\"\"\"\n",
    "CREATE TEMP TABLE employees_temp (\n",
    "    employee_id INTEGER,\n",
    "    name VARCHAR,\n",
    "    department VARCHAR,\n",
    "    salary INTEGER,\n",
    "    is_active BOOLEAN,\n",
    "    hire_year INTEGER\n",
    ");\n",
    "\"\"\")\n",
    "\n",
    "# 데이터 삽입 (6개 행)\n",
    "con.execute(\"\"\"\n",
    "INSERT INTO employees_temp VALUES\n",
    "(101, 'Alice', 'HR', 60000, TRUE, 2020),\n",
    "(102, 'Bob', 'IT', 85000, TRUE, 2018),\n",
    "(103, 'Charlie', 'Sales', 55000, TRUE, 2022),\n",
    "(104, 'David', 'IT', 70000, FALSE, 2023),\n",
    "(105, 'Eve', 'HR', 72000, TRUE, 2019),\n",
    "(106, 'Frank', 'Sales', 58000, FALSE, 2024);\n",
    "\"\"\")\n",
    "\n",
    "\n",
    "print(con.sql(\"SELECT * FROM employees_temp;\").df())\n"
   ]
  },
  {
   "cell_type": "code",
   "execution_count": 3,
   "id": "b16929de",
   "metadata": {},
   "outputs": [
    {
     "name": "stdout",
     "output_type": "stream",
     "text": [
      "HR 부서 직원 삭제\n",
      "   employee_id     name department  salary  is_active  hire_year\n",
      "0          102      Bob         IT   85000       True       2018\n",
      "1          103  Charlie      Sales   55000       True       2022\n",
      "2          104    David         IT   70000      False       2023\n",
      "3          106    Frank      Sales   58000      False       2024\n"
     ]
    }
   ],
   "source": [
    "print(\"HR 부서 직원 삭제\")\n",
    "con.execute(\"DELETE FROM employees_temp WHERE department = 'HR';\")\n",
    "\n",
    "# 삭제 후 상태 확인 (4개 행 남음)\n",
    "print(con.sql(\"SELECT * FROM employees_temp;\").df())"
   ]
  },
  {
   "cell_type": "code",
   "execution_count": 4,
   "id": "fefde32e",
   "metadata": {},
   "outputs": [
    {
     "name": "stdout",
     "output_type": "stream",
     "text": [
      "고연봉 직원 삭제\n",
      "   employee_id     name department  salary  is_active  hire_year\n",
      "0          103  Charlie      Sales   55000       True       2022\n",
      "1          104    David         IT   70000      False       2023\n",
      "2          106    Frank      Sales   58000      False       2024\n"
     ]
    }
   ],
   "source": [
    "print(\"고연봉 직원 삭제\")\n",
    "con.execute(\"DELETE FROM employees_temp WHERE salary > 70000;\")\n",
    "\n",
    "# 삭제 후 상태 확인 (3개 행 남음: Charlie, David, Frank)\n",
    "print(con.sql(\"SELECT * FROM employees_temp;\").df())\n"
   ]
  },
  {
   "cell_type": "code",
   "execution_count": 5,
   "id": "11d62916",
   "metadata": {},
   "outputs": [
    {
     "name": "stdout",
     "output_type": "stream",
     "text": [
      "Sales이거나 비활성 직원 삭제\n",
      "Empty DataFrame\n",
      "Columns: [employee_id, name, department, salary, is_active, hire_year]\n",
      "Index: []\n"
     ]
    }
   ],
   "source": [
    "print(\"Sales이거나 비활성 직원 삭제\")\n",
    "con.execute(\"DELETE FROM employees_temp WHERE department = 'Sales' OR is_active = FALSE;\")\n",
    "\n",
    "# 삭제 후 상태 확인 (0개 행 남음)\n",
    "print(con.sql(\"SELECT * FROM employees_temp;\").df())\n",
    "\n",
    "con.close()"
   ]
  },
  {
   "cell_type": "code",
   "execution_count": null,
   "id": "b211c92c",
   "metadata": {},
   "outputs": [],
   "source": [
    "##################################################"
   ]
  },
  {
   "cell_type": "code",
   "execution_count": 7,
   "id": "2a6745cc",
   "metadata": {},
   "outputs": [
    {
     "name": "stdout",
     "output_type": "stream",
     "text": [
      "\n",
      "[초기 상태: 6개 행]\n",
      "   task_id                   task_name  priority   due_date  is_completed\n",
      "0        1      Database Schema Design         1 2025-10-30         False\n",
      "1        2  Backend API Implementation         2 2025-11-15         False\n",
      "2        3          Frontend UI Mockup         3 2025-10-25          True\n",
      "3        4           Test Case Writing         4 2025-11-01         False\n",
      "4        5           Deploy to Staging         1 2025-11-20         False\n",
      "5        6        Documentation Review         5 2025-10-28          True\n"
     ]
    }
   ],
   "source": [
    "\n",
    "con = duckdb.connect(database=':memory:')\n",
    "\n",
    "# project_tasks 테이블 생성\n",
    "con.execute(\"\"\"\n",
    "CREATE TEMP TABLE project_tasks (\n",
    "    task_id INTEGER,\n",
    "    task_name VARCHAR,\n",
    "    priority INTEGER,\n",
    "    due_date DATE,\n",
    "    is_completed BOOLEAN\n",
    ");\n",
    "\"\"\")\n",
    "\n",
    "# 데이터 삽입 (6개 행)\n",
    "con.execute(\"\"\"\n",
    "INSERT INTO project_tasks VALUES\n",
    "(1, 'Database Schema Design', 1, '2025-10-30', FALSE),\n",
    "(2, 'Backend API Implementation', 2, '2025-11-15', FALSE),\n",
    "(3, 'Frontend UI Mockup', 3, '2025-10-25', TRUE),\n",
    "(4, 'Test Case Writing', 4, '2025-11-01', FALSE),\n",
    "(5, 'Deploy to Staging', 1, '2025-11-20', FALSE),\n",
    "(6, 'Documentation Review', 5, '2025-10-28', TRUE);\n",
    "\"\"\")\n",
    "\n",
    "# 확인\n",
    "print(\"\\n[초기 상태: 6개 행]\")\n",
    "print(con.sql(\"SELECT * FROM project_tasks;\").df())\n"
   ]
  },
  {
   "cell_type": "code",
   "execution_count": 8,
   "id": "b09946e7",
   "metadata": {},
   "outputs": [
    {
     "name": "stdout",
     "output_type": "stream",
     "text": [
      "낮은 우선순위 작업 삭제 (WHERE priority BETWEEN 3 AND 5)\n",
      "   task_id                   task_name  priority   due_date  is_completed\n",
      "0        1      Database Schema Design         1 2025-10-30         False\n",
      "1        2  Backend API Implementation         2 2025-11-15         False\n",
      "2        5           Deploy to Staging         1 2025-11-20         False\n"
     ]
    }
   ],
   "source": [
    "print(\"낮은 우선순위 작업 삭제 (WHERE priority BETWEEN 3 AND 5)\")\n",
    "con.execute(\"DELETE FROM project_tasks WHERE priority BETWEEN 3 AND 5;\")\n",
    "\n",
    "# 삭제 후 상태 확인 (3개 행 남음: priority 1, 2인 작업만 남음)\n",
    "print(con.sql(\"SELECT * FROM project_tasks;\").df())\n"
   ]
  },
  {
   "cell_type": "code",
   "execution_count": 9,
   "id": "f0c96378",
   "metadata": {},
   "outputs": [
    {
     "name": "stdout",
     "output_type": "stream",
     "text": [
      "특정 날짜 이전 미완료 작업 삭제 (WHERE due_date < '2025-11-05' AND is_completed = FALSE)\n",
      "   task_id                   task_name  priority   due_date  is_completed\n",
      "0        2  Backend API Implementation         2 2025-11-15         False\n",
      "1        5           Deploy to Staging         1 2025-11-20         False\n"
     ]
    }
   ],
   "source": [
    "\n",
    "# 날짜 및 논리 연산자 (AND, <)\n",
    "print(\"특정 날짜 이전 미완료 작업 삭제 (WHERE due_date < '2025-11-05' AND is_completed = FALSE)\")\n",
    "\n",
    "# 현재 남아있는 작업 중:\n",
    "# - Task 1 (2025-10-30, FALSE) -> 삭제 대상\n",
    "# - Task 2 (2025-11-15, FALSE) -> 제외 (날짜 조건 불만족)\n",
    "# - Task 5 (2025-11-20, FALSE) -> 제외 (날짜 조건 불만족)\n",
    "con.execute(\"DELETE FROM project_tasks WHERE due_date < '2025-11-05' AND is_completed = FALSE;\")\n",
    "\n",
    "# 삭제 후 상태 확인 (2개 행 남음: Task 2, 5)\n",
    "print(con.sql(\"SELECT * FROM project_tasks;\").df())\n"
   ]
  },
  {
   "cell_type": "code",
   "execution_count": 10,
   "id": "8c3e0ceb",
   "metadata": {},
   "outputs": [
    {
     "name": "stdout",
     "output_type": "stream",
     "text": [
      "핵심 작업(priority 1)이 아닌 모든 작업 삭제 (WHERE priority NOT IN (1))\n",
      "   task_id          task_name  priority   due_date  is_completed\n",
      "0        5  Deploy to Staging         1 2025-11-20         False\n"
     ]
    }
   ],
   "source": [
    "print(\"핵심 작업(priority 1)이 아닌 모든 작업 삭제 (WHERE priority NOT IN (1))\")\n",
    "\n",
    "# 현재 남아있는 작업 중:\n",
    "# - Task 2 (priority 2) -> 삭제 대상\n",
    "# - Task 5 (priority 1) -> 제외\n",
    "\n",
    "con.execute(\"DELETE FROM project_tasks WHERE priority NOT IN (1);\")\n",
    "\n",
    "# 삭제 후 상태 확인 (1개 행 남음: Task 5)\n",
    "print(con.sql(\"SELECT * FROM project_tasks;\").df())\n",
    "\n",
    "# 연결 닫기\n",
    "con.close()"
   ]
  },
  {
   "cell_type": "code",
   "execution_count": null,
   "id": "3d51ba59",
   "metadata": {},
   "outputs": [],
   "source": []
  }
 ],
 "metadata": {
  "kernelspec": {
   "display_name": "py310",
   "language": "python",
   "name": "python3"
  },
  "language_info": {
   "codemirror_mode": {
    "name": "ipython",
    "version": 3
   },
   "file_extension": ".py",
   "mimetype": "text/x-python",
   "name": "python",
   "nbconvert_exporter": "python",
   "pygments_lexer": "ipython3",
   "version": "3.10.18"
  }
 },
 "nbformat": 4,
 "nbformat_minor": 5
}
