{
 "cells": [
  {
   "cell_type": "code",
   "execution_count": null,
   "id": "8fa775a9",
   "metadata": {},
   "outputs": [],
   "source": [
    "# conda install duckdb"
   ]
  },
  {
   "cell_type": "code",
   "execution_count": null,
   "id": "d26432a5",
   "metadata": {},
   "outputs": [],
   "source": [
    "import pandas as pd\n",
    "import duckdb\n",
    "\n",
    "df_employees = pd.DataFrame({\n",
    "    'employee_id': [101, 102, 103, 104, 105],\n",
    "    'name': ['김민준', '박서윤', '이하준', '정수아', '최도윤'],\n",
    "    'department': ['영업부', '개발부', '인사부', '마케팅부', '영업부'],\n",
    "    'position': ['사원', '대리', '과장', '팀장', '사원'],\n",
    "    'hire_date': ['2023-01-15', '2022-05-20', '2021-09-01', '2020-03-10', '2023-08-01'],\n",
    "    'salary': [4500, 6000, 7500, 9000, 4800]\n",
    "})\n",
    "\n",
    "print(df_employees)"
   ]
  },
  {
   "cell_type": "code",
   "execution_count": null,
   "id": "383117bf",
   "metadata": {},
   "outputs": [],
   "source": [
    "# 1. = (동등 비교)\n",
    "query = \"SELECT * FROM df_employees WHERE department = '영업부'\"\n",
    "duckdb.sql(query).df()"
   ]
  },
  {
   "cell_type": "code",
   "execution_count": null,
   "id": "db4a96a7",
   "metadata": {},
   "outputs": [],
   "source": [
    "# 2. > 또는 < (크기 비교)\n",
    "# 월급이 6000 이상인 직원 조회\n",
    "\n",
    "query = \"SELECT * FROM df_employees WHERE salary >= 6000;\"\n",
    "duckdb.sql(query).df()\n"
   ]
  },
  {
   "cell_type": "code",
   "execution_count": null,
   "id": "fa3253e6",
   "metadata": {},
   "outputs": [],
   "source": [
    "# 3. AND (논리 연산)\n",
    "query = \"SELECT * FROM df_employees WHERE department = '영업부' AND salary >= 4700\"\n",
    "duckdb.sql(query).df()"
   ]
  },
  {
   "cell_type": "code",
   "execution_count": null,
   "id": "67be8269",
   "metadata": {},
   "outputs": [],
   "source": [
    "# 4. OR (논리 연산)\n",
    "query = \"SELECT * FROM df_employees WHERE position = '사원' OR position = '팀장'\"\n",
    "duckdb.sql(query).df()"
   ]
  },
  {
   "cell_type": "code",
   "execution_count": null,
   "id": "ebd01286",
   "metadata": {},
   "outputs": [],
   "source": [
    "# 5. LIKE (문자열 패턴 매칭) - 1\n",
    "query = \"SELECT * FROM df_employees WHERE name LIKE '%민%'\"\n",
    "duckdb.sql(query).df()"
   ]
  },
  {
   "cell_type": "code",
   "execution_count": null,
   "id": "708ee7d1",
   "metadata": {},
   "outputs": [],
   "source": [
    "# 5. LIKE (문자열 패턴 매칭) - 2\n",
    "# 이름이 '김'으로 시작하는 직원\n",
    "query = \"SELECT name, department FROM df_employees WHERE name LIKE '김%'\"\n",
    "duckdb.sql(query).df()"
   ]
  },
  {
   "cell_type": "code",
   "execution_count": null,
   "id": "89839c07",
   "metadata": {},
   "outputs": [],
   "source": [
    "# 5. LIKE (문자열 패턴 매칭) - 3\n",
    "query = \"SELECT name, department FROM df_employees WHERE name LIKE '%윤'\"\n",
    "duckdb.sql(query).df()"
   ]
  },
  {
   "cell_type": "code",
   "execution_count": null,
   "id": "4d0fbb64",
   "metadata": {},
   "outputs": [],
   "source": [
    "# 5. LIKE (문자열 패턴 매칭) - 4\n",
    "# 이름의 두 번째 글자가 '서'인 직원\n",
    "# _는 한 글자와 일치\n",
    "\n",
    "query = \"SELECT name, department FROM df_employees WHERE name LIKE '_서%';\"\n",
    "duckdb.sql(query).df()"
   ]
  },
  {
   "cell_type": "code",
   "execution_count": null,
   "id": "d7035492",
   "metadata": {},
   "outputs": [],
   "source": [
    "# 5. LIKE (문자열 패턴 매칭) - 5\n",
    "# 세 글자 이름을 가진 직원\n",
    "# _를 3개 사용\n",
    "query = \"SELECT name, department FROM df_employees WHERE name LIKE '___';\"\n",
    "duckdb.sql(query).df()"
   ]
  },
  {
   "cell_type": "code",
   "execution_count": null,
   "id": "2c22a193",
   "metadata": {},
   "outputs": [],
   "source": [
    "# 6. IN (집합 비교)\n",
    "query = \"SELECT * FROM df_employees WHERE department IN ('개발부', '마케팅부')\"\n",
    "duckdb.sql(query).df()"
   ]
  },
  {
   "cell_type": "code",
   "execution_count": null,
   "id": "1726f2b6",
   "metadata": {},
   "outputs": [],
   "source": [
    "# 7. BETWEEN (범위 비교)\n",
    "query = \"SELECT * FROM df_employees WHERE salary BETWEEN 5000 AND 8000\"\n",
    "duckdb.sql(query).df()"
   ]
  },
  {
   "cell_type": "code",
   "execution_count": null,
   "id": "59c2bbe9",
   "metadata": {},
   "outputs": [],
   "source": [
    "# 문제\n",
    "\n",
    "\n",
    "df_employees = pd.DataFrame({\n",
    "    'employee_id': [101, 102, 103, 104, 105, 106, 107, 108, 109, 110],\n",
    "    'name': ['김민준', '박서윤', '이하준', '정수아', '최도윤', '강민재', '신지훈', '오지은', '윤하람', '장서연'],\n",
    "    'department': ['영업부', '개발부', '인사부', '마케팅부', '영업부', '개발부', '인사부', '마케팅부', '영업부', '개발부'],\n",
    "    'position': ['사원', '대리', '과장', '팀장', '사원', '대리', '과장', '팀장', '사원', '대리'],\n",
    "    'hire_date': ['2023-01-15', '2022-05-20', '2021-09-01', '2020-03-10', '2023-08-01', '2022-11-05', '2021-02-18', '2020-07-22', '2023-04-30', '2022-09-10'],\n",
    "    'salary': [4500, 6000, 7500, 9000, 4800, 6200, 7800, 9200, 4600, 6100]\n",
    "})"
   ]
  },
  {
   "cell_type": "code",
   "execution_count": null,
   "id": "50b25ec1",
   "metadata": {},
   "outputs": [],
   "source": [
    "# 아래 문제별로 \"\" 사이에 SQL 문을 넣어서 완성하시오\n",
    "query = \"\"\n",
    "duckdb.sql(query).df()"
   ]
  },
  {
   "cell_type": "code",
   "execution_count": null,
   "id": "a8fe60a5",
   "metadata": {},
   "outputs": [],
   "source": [
    "# '영업부'에 속한 모든 직원을 찾으세요.\n",
    "# 급여가 2000을 초과하는 모든 직원을 찾으세요.\n",
    "# 두 조건을 모두 충족하는 직원의 name, department, salary를 출력하세요\n"
   ]
  },
  {
   "cell_type": "code",
   "execution_count": null,
   "id": "bf3f6456",
   "metadata": {},
   "outputs": [],
   "source": [
    "#  '개발부' 소속이면서 '대리' 직급인 직원\n",
    "#  '마케팅부' 소속이거나 급여가 9000 이상인 직원"
   ]
  },
  {
   "cell_type": "code",
   "execution_count": null,
   "id": "b689dcca",
   "metadata": {},
   "outputs": [],
   "source": [
    "# 이름이 '김'으로 시작하는 직원\n",
    "# '영업부' 또는 '인사부'에 속한 모든 직원\n",
    "# 2022년에 입사한 모든 직원"
   ]
  }
 ],
 "metadata": {
  "kernelspec": {
   "display_name": "py310_64",
   "language": "python",
   "name": "python3"
  },
  "language_info": {
   "codemirror_mode": {
    "name": "ipython",
    "version": 3
   },
   "file_extension": ".py",
   "mimetype": "text/x-python",
   "name": "python",
   "nbconvert_exporter": "python",
   "pygments_lexer": "ipython3",
   "version": "3.10.18"
  }
 },
 "nbformat": 4,
 "nbformat_minor": 5
}
